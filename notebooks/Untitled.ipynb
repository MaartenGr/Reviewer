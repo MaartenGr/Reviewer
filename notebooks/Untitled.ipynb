{
 "cells": [
  {
   "cell_type": "code",
   "execution_count": 2,
   "metadata": {},
   "outputs": [],
   "source": [
    "class Person:\n",
    "    def __init__(self, fname, lname):\n",
    "        self.firstname = fname\n",
    "        self.lastname = lname\n",
    "\n",
    "    def printname(self):\n",
    "        print(self.firstname, self.lastname)"
   ]
  },
  {
   "cell_type": "code",
   "execution_count": 4,
   "metadata": {},
   "outputs": [],
   "source": [
    "john = Person(\"john\", \"peters\")"
   ]
  },
  {
   "cell_type": "code",
   "execution_count": 6,
   "metadata": {},
   "outputs": [],
   "source": [
    "class Human(Person):\n",
    "    pass\n",
    "    "
   ]
  },
  {
   "cell_type": "code",
   "execution_count": 8,
   "metadata": {},
   "outputs": [],
   "source": [
    "test = Human('1', '2')"
   ]
  },
  {
   "cell_type": "code",
   "execution_count": 16,
   "metadata": {},
   "outputs": [
    {
     "name": "stdout",
     "output_type": "stream",
     "text": [
      "Hello Sally\n",
      "Hello Thomasnew\n"
     ]
    }
   ],
   "source": [
    "class Cat:\n",
    "    def say_hello(self, name):\n",
    "        return 'Hello ' + name\n",
    "\n",
    "class Kitten(Cat):\n",
    "    def say_hello(self, name='Thomas'):\n",
    "        test = super().say_hello(name)\n",
    "        test += \"new\"\n",
    "        return test\n",
    "\n",
    "x = Cat()\n",
    "print(x.say_hello(\"Sally\"))\n",
    "y = Kitten()\n",
    "print(y.say_hello())\n"
   ]
  },
  {
   "cell_type": "code",
   "execution_count": 12,
   "metadata": {},
   "outputs": [],
   "source": [
    "from wordcloud import WordCloud, ImageColorGenerator"
   ]
  },
  {
   "cell_type": "code",
   "execution_count": 14,
   "metadata": {},
   "outputs": [],
   "source": [
    "class BrightImageColorGenerator(ImageColorGenerator):\n",
    "    def __call__(self, word, font_size, font_path, position, orientation, **kwargs):\n",
    "        color = super().say_hello(word, font_size, font_path, position, orientation, **kwargs)\n",
    "        h, l, s = colorsys.rgb_to_hls(*color/255)\n",
    "        color = colorsys.hls_to_rgb(h=h,l=min(1, l*.9),s=min(1, s*1.2))\n",
    "        \n",
    "        return \"rgb(%d, %d, %d)\" % (color[0]*255, color[1]*255, color[2]*255)\n"
   ]
  },
  {
   "cell_type": "code",
   "execution_count": null,
   "metadata": {},
   "outputs": [],
   "source": []
  },
  {
   "cell_type": "code",
   "execution_count": null,
   "metadata": {},
   "outputs": [],
   "source": []
  },
  {
   "cell_type": "code",
   "execution_count": 13,
   "metadata": {},
   "outputs": [],
   "source": [
    "\n",
    "class ImageColorGenerator(object):\n",
    "    \"\"\"Color generator based on a color image.\n",
    "\n",
    "    Generates colors based on an RGB image. A word will be colored using\n",
    "    the mean color of the enclosing rectangle in the color image.\n",
    "\n",
    "    After construction, the object acts as a callable that can be passed as\n",
    "    color_func to the word cloud constructor or to the recolor method.\n",
    "\n",
    "    Parameters\n",
    "    ----------\n",
    "    image : nd-array, shape (height, width, 3)\n",
    "        Image to use to generate word colors. Alpha channels are ignored.\n",
    "        This should be the same size as the canvas. for the wordcloud.\n",
    "    default_color : tuple or None, default=None\n",
    "        Fallback colour to use if the canvas is larger than the image,\n",
    "        in the format (r, g, b). If None, raise ValueError instead.\n",
    "    \"\"\"\n",
    "    # returns the average color of the image in that region\n",
    "    def __init__(self, image, default_color=None):\n",
    "        if image.ndim not in [2, 3]:\n",
    "            raise ValueError(\"ImageColorGenerator needs an image with ndim 2 or\"\n",
    "                             \" 3, got %d\" % image.ndim)\n",
    "        if image.ndim == 3 and image.shape[2] not in [3, 4]:\n",
    "            raise ValueError(\"A color image needs to have 3 or 4 channels, got %d\"\n",
    "                             % image.shape[2])\n",
    "        self.image = image\n",
    "        self.default_color = default_color\n",
    "\n",
    "    def __call__(self, word, font_size, font_path, position, orientation, **kwargs):\n",
    "        \"\"\"Generate a color for a given word using a fixed image.\"\"\"\n",
    "        # get the font to get the box size\n",
    "        font = ImageFont.truetype(font_path, font_size)\n",
    "        transposed_font = ImageFont.TransposedFont(font,\n",
    "                                                   orientation=orientation)\n",
    "        \n",
    "        # get size of resulting text\n",
    "        box_size = transposed_font.getsize(word)\n",
    "        x = position[0]\n",
    "        y = position[1]\n",
    "        \n",
    "        # cut out patch under word box\n",
    "        patch = self.image[x:x + box_size[0], y:y + box_size[1]]\n",
    "        if patch.ndim == 3:\n",
    "            # drop alpha channel if any\n",
    "            patch = patch[:, :, :3]\n",
    "        if patch.ndim == 2:\n",
    "            raise NotImplementedError(\"Gray-scale images TODO\")\n",
    "            \n",
    "        # check if the text is within the bounds of the image\n",
    "        reshape = patch.reshape(-1, 3)\n",
    "        if not np.all(reshape.shape):\n",
    "            if self.default_color is None:\n",
    "                raise ValueError('ImageColorGenerator is smaller than the canvas')\n",
    "            return \"rgb(%d, %d, %d)\" % tuple(self.default_color)\n",
    "        color = np.mean(reshape, axis=0)\n",
    "        h, l, s = colorsys.rgb_to_hls(*color/255)\n",
    "        color = colorsys.hls_to_rgb(h=h,l=min(1, l*.9),s=min(1, s*1.2))\n",
    "        \n",
    "        return \"rgb(%d, %d, %d)\" % (color[0]*255, color[1]*255, color[2]*255)"
   ]
  },
  {
   "cell_type": "code",
   "execution_count": null,
   "metadata": {},
   "outputs": [],
   "source": []
  }
 ],
 "metadata": {
  "kernelspec": {
   "display_name": "Python 3",
   "language": "python",
   "name": "python3"
  },
  "language_info": {
   "codemirror_mode": {
    "name": "ipython",
    "version": 3
   },
   "file_extension": ".py",
   "mimetype": "text/x-python",
   "name": "python",
   "nbconvert_exporter": "python",
   "pygments_lexer": "ipython3",
   "version": "3.7.3"
  }
 },
 "nbformat": 4,
 "nbformat_minor": 4
}

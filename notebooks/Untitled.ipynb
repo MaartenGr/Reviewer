{
 "cells": [
  {
   "cell_type": "code",
   "execution_count": 13,
   "metadata": {},
   "outputs": [],
   "source": [
    "import scrapy\n",
    "from urllib.parse import urljoin\n",
    "\n",
    "\n",
    "class RatingSpider(scrapy.Spider):\n",
    "    name = \"rate\"\n",
    "    start_urls = [\"https://www.imdb.com/title/tt4695012/reviews?ref_=tt_ql_3\"]\n",
    "\n",
    "    def parse(self, response):\n",
    "        ratings = response.xpath(\"//div[@class='ipl-ratings-bar']//span[@class='rating-other-user-rating']//span[not(contains(@class, 'point-scale'))]/text()\").getall()\n",
    "        texts = response.xpath(\"//div[@class='text show-more__control']/text()\").getall()\n",
    "        result_data = []\n",
    "        for i in range(len(ratings)):\n",
    "            row = {\n",
    "                \"ratings\": int(ratings[i]),\n",
    "                \"review_text\": texts[i]\n",
    "            }\n",
    "            result_data.append(row)\n",
    "            print(json.dumps(row))\n",
    "\n",
    "        key = response.css(\"div.load-more-data::attr(data-key)\").get()\n",
    "        orig_url = response.meta.get('orig_url', response.url)\n",
    "        next_url = urljoin(orig_url, \"reviews/_ajax?paginationKey={}\".format(key))\n",
    "        if key:\n",
    "            yield scrapy.Request(next_url, meta={'orig_url': orig_url})\n",
    "            \n",
    "        with open(\"test.html\", 'wb') as f:\n",
    "            f.write(response.body)"
   ]
  },
  {
   "cell_type": "code",
   "execution_count": 4,
   "metadata": {},
   "outputs": [],
   "source": [
    "rs = RatingSpider()"
   ]
  },
  {
   "cell_type": "code",
   "execution_count": 11,
   "metadata": {},
   "outputs": [],
   "source": [
    "result = []\n",
    "for i in rs.start_requests():\n",
    "    result.append(i)"
   ]
  },
  {
   "cell_type": "code",
   "execution_count": 12,
   "metadata": {},
   "outputs": [
    {
     "data": {
      "text/plain": [
       "[<GET https://www.imdb.com/title/tt4695012/reviews?ref_=tt_ql_3>]"
      ]
     },
     "execution_count": 12,
     "metadata": {},
     "output_type": "execute_result"
    }
   ],
   "source": [
    "result"
   ]
  },
  {
   "cell_type": "code",
   "execution_count": null,
   "metadata": {},
   "outputs": [],
   "source": []
  }
 ],
 "metadata": {
  "kernelspec": {
   "display_name": "Python 3",
   "language": "python",
   "name": "python3"
  },
  "language_info": {
   "codemirror_mode": {
    "name": "ipython",
    "version": 3
   },
   "file_extension": ".py",
   "mimetype": "text/x-python",
   "name": "python",
   "nbconvert_exporter": "python",
   "pygments_lexer": "ipython3",
   "version": "3.7.4"
  }
 },
 "nbformat": 4,
 "nbformat_minor": 4
}

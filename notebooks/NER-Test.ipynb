{
 "cells": [
  {
   "cell_type": "markdown",
   "metadata": {},
   "source": [
    "Fine-tune bert: https://skimai.com/fine-tuning-bert-for-sentiment-analysis/"
   ]
  },
  {
   "cell_type": "code",
   "execution_count": 17,
   "metadata": {},
   "outputs": [],
   "source": [
    "import re\n",
    "import json\n",
    "import numpy as np\n",
    "import pandas as pd\n",
    "from tqdm import tqdm\n",
    "from collections import Counter\n",
    "from unidecode import unidecode\n",
    "from flair.data import Sentence\n",
    "from flair.models import SequenceTagger\n",
    "from flair.models import TextClassifier\n",
    "from rich import print\n",
    "from nltk.tokenize import sent_tokenize\n",
    "\n",
    "import seaborn as sns\n",
    "from matplotlib.colors import TwoSlopeNorm\n",
    "import matplotlib.pyplot as plt\n",
    "\n",
    "%matplotlib inline\n",
    "\n",
    "def extract_names(docs, save=False):\n",
    "    results = []\n",
    "    \n",
    "    for doc in docs:\n",
    "        \n",
    "        # split doc in sentences\n",
    "        sentences = sent_tokenize(doc)\n",
    "#         sentences = [e + \".\" for e in doc.split(\".\") if e]\n",
    "        \n",
    "        for sent in sentences:\n",
    "            \n",
    "            sentence = Sentence(sent, use_tokenizer=True)\n",
    "            tagger.predict(sentence)\n",
    "\n",
    "            for entity in sentence.get_spans('ner'):\n",
    "                \n",
    "                # Extract person and predict sentiment if person is in sentence\n",
    "                if entity.tag == \"PER\":\n",
    "                    classifier.predict(sentence)\n",
    "                    score = sentence.get_labels()[0].score\n",
    "                    value = sentence.get_labels()[0].value\n",
    "                    name = entity.text\n",
    "                    results.append((name, score, value))\n",
    "\n",
    "    if save:\n",
    "        with open(f'../data/{save}_names.json', 'w') as f:\n",
    "            json.dump(results, f)\n",
    "                \n",
    "    return results\n",
    "\n",
    "\n",
    "def extract_df(name_list):\n",
    "    df = pd.DataFrame(name_list, columns=[\"Word\", \"Prob\", \"Sentiment\"])\n",
    "    df.Sentiment = df.Sentiment.map({\"POSITIVE\": 1, \"NEGATIVE\": -1})\n",
    "    df.Word = df.Word.astype(str)\n",
    "    df = preprocess_counts(df)\n",
    "    return df\n",
    "\n",
    "\n",
    "def preprocess_counts(df):\n",
    "    \"\"\" Preprocess the data\n",
    "    \n",
    "    * Combine names such as Miguel and Miguel's by removing everything next to the special character \n",
    "    \n",
    "    \"\"\"\n",
    "    # Remove accents\n",
    "    df.Word = [unidecode(word) for word in df.Word]\n",
    "    \n",
    "    # Combine names such as Miguel and Miguel's by removing everything next to the special character\n",
    "#     df.Word = df.Word.str.replace('[^A-z]',' ').str.strip().str.split(' ').str[0]  \n",
    "    df.Word = df.Word.str.replace('[^A-z]',' ').str.strip()\n",
    "    df = df.groupby(\"Word\").agg({\"Sentiment\": [np.mean, np.count_nonzero]})\n",
    "    df.columns = df.columns.droplevel()\n",
    "    df = df.reset_index()\n",
    "    df.columns = [\"Word\", \"Sentiment\", \"Count\"]\n",
    "    df = df.sort_values(\"Count\", ascending=False)\n",
    "    \n",
    "    # Remove names less than 3 characters\n",
    "    df = df.loc[df.Word.str.len() >= 3, :]\n",
    "    \n",
    "    # Remove the \"name\" Disney\n",
    "    df = df.loc[df.Word != \"Disney\", :]\n",
    "    \n",
    "    return df"
   ]
  },
  {
   "cell_type": "markdown",
   "metadata": {},
   "source": [
    "**Load Model**  \n",
    "This model was trained over the English CoNLL-03 task and can recognize 4 different entity types."
   ]
  },
  {
   "cell_type": "code",
   "execution_count": 2,
   "metadata": {},
   "outputs": [
    {
     "name": "stdout",
     "output_type": "stream",
     "text": [
      "2020-08-12 14:00:16,423 loading file /home/CORP.VANSPAENDONCKGROEP.NL/maarten.grootendorst/.flair/models/en-ner-fast-conll03-v0.4.pt\n",
      "2020-08-12 14:00:21,003 loading file /home/CORP.VANSPAENDONCKGROEP.NL/maarten.grootendorst/.flair/models/sentiment-en-mix-ft-rnn.pt\n"
     ]
    }
   ],
   "source": [
    "tagger = SequenceTagger.load('ner-fast')  # ner-fast for cpu-based predictions\n",
    "classifier = TextClassifier.load('sentiment-fast')"
   ]
  },
  {
   "cell_type": "markdown",
   "metadata": {},
   "source": [
    "**Load Data**"
   ]
  },
  {
   "cell_type": "code",
   "execution_count": 287,
   "metadata": {},
   "outputs": [],
   "source": [
    "with open('../data/disney_reviews.json') as f:\n",
    "    reviews = json.load(f)\n",
    "\n",
    "docs = reviews['The Lion King']"
   ]
  },
  {
   "cell_type": "markdown",
   "metadata": {},
   "source": [
    "**Generate Predictions**"
   ]
  },
  {
   "cell_type": "code",
   "execution_count": 288,
   "metadata": {},
   "outputs": [],
   "source": [
    "new_docs = [sent_tokenize(doc) for doc in docs]\n",
    "new_docs = [x for sublist in new_docs for x in sublist]\n",
    "total_length = sum([len(x) for x in new_docs])\n",
    "new_docs = [Sentence(x) for x in new_docs]"
   ]
  },
  {
   "cell_type": "code",
   "execution_count": 289,
   "metadata": {},
   "outputs": [
    {
     "name": "stderr",
     "output_type": "stream",
     "text": [
      "Inferencing on batch 314: 100%|██████████| 314/314 [00:31<00:00, 10.03it/s]\n",
      "Inferencing on batch 314: 100%|██████████| 314/314 [00:08<00:00, 36.98it/s]\n"
     ]
    }
   ],
   "source": [
    "tagger.predict(new_docs, verbose=True)\n",
    "classifier.predict(new_docs, verbose=True)\n",
    "\n",
    "results = []\n",
    "for sentence in new_docs:\n",
    "    for token in sentence.get_spans('ner'):\n",
    "        if token.tag == \"PER\":\n",
    "            results.append((token.text, sentence.get_labels()[0].score, sentence.get_labels()[0].value))"
   ]
  },
  {
   "cell_type": "code",
   "execution_count": 290,
   "metadata": {},
   "outputs": [],
   "source": [
    "df = pd.DataFrame(results, columns=[\"Word\", \"Prob\", \"Sentiment\"])\n",
    "\n",
    "# Preprocessing\n",
    "df.Sentiment = df.Sentiment.map({\"POSITIVE\": 1, \"NEGATIVE\": -1})\n",
    "df.Word = [unidecode(word) for word in df.Word]\n",
    "df.Word = df.Word.str.replace('[^A-z]',' ').str.strip()\n",
    "df.Word = [re.sub(r\"\\b[a-zA-Z]\\b\", \"\", word).strip() for word in df.Word.values]\n",
    "df = df.loc[df.Word != \"Disney\", :]\n",
    "df = df.loc[df.Word.str.len() >= 3, :]\n",
    "\n",
    "# Finishing up\n",
    "df = df.groupby(\"Word\").agg({\"Sentiment\": [np.mean, np.count_nonzero]})\n",
    "df.columns = df.columns.droplevel()\n",
    "df = df.reset_index()\n",
    "df.columns = [\"Word\", \"Sentiment\", \"Count\"]\n",
    "df = df.sort_values(\"Count\", ascending=False)"
   ]
  },
  {
   "cell_type": "code",
   "execution_count": 291,
   "metadata": {},
   "outputs": [
    {
     "data": {
      "text/html": [
       "<div>\n",
       "<style scoped>\n",
       "    .dataframe tbody tr th:only-of-type {\n",
       "        vertical-align: middle;\n",
       "    }\n",
       "\n",
       "    .dataframe tbody tr th {\n",
       "        vertical-align: top;\n",
       "    }\n",
       "\n",
       "    .dataframe thead th {\n",
       "        text-align: right;\n",
       "    }\n",
       "</style>\n",
       "<table border=\"1\" class=\"dataframe\">\n",
       "  <thead>\n",
       "    <tr style=\"text-align: right;\">\n",
       "      <th></th>\n",
       "      <th>Word</th>\n",
       "      <th>Sentiment</th>\n",
       "      <th>Count</th>\n",
       "    </tr>\n",
       "  </thead>\n",
       "  <tbody>\n",
       "    <tr>\n",
       "      <th>559</th>\n",
       "      <td>Simba</td>\n",
       "      <td>0.323913</td>\n",
       "      <td>920</td>\n",
       "    </tr>\n",
       "    <tr>\n",
       "      <th>518</th>\n",
       "      <td>Scar</td>\n",
       "      <td>0.098655</td>\n",
       "      <td>446</td>\n",
       "    </tr>\n",
       "    <tr>\n",
       "      <th>379</th>\n",
       "      <td>Mufasa</td>\n",
       "      <td>0.244681</td>\n",
       "      <td>376</td>\n",
       "    </tr>\n",
       "    <tr>\n",
       "      <th>640</th>\n",
       "      <td>Timon</td>\n",
       "      <td>0.573770</td>\n",
       "      <td>122</td>\n",
       "    </tr>\n",
       "    <tr>\n",
       "      <th>101</th>\n",
       "      <td>Elton John</td>\n",
       "      <td>0.661017</td>\n",
       "      <td>118</td>\n",
       "    </tr>\n",
       "    <tr>\n",
       "      <th>309</th>\n",
       "      <td>Lion King</td>\n",
       "      <td>0.355932</td>\n",
       "      <td>118</td>\n",
       "    </tr>\n",
       "    <tr>\n",
       "      <th>465</th>\n",
       "      <td>Pumbaa</td>\n",
       "      <td>0.600000</td>\n",
       "      <td>105</td>\n",
       "    </tr>\n",
       "    <tr>\n",
       "      <th>235</th>\n",
       "      <td>Jeremy Irons</td>\n",
       "      <td>0.588235</td>\n",
       "      <td>102</td>\n",
       "    </tr>\n",
       "    <tr>\n",
       "      <th>414</th>\n",
       "      <td>Nala</td>\n",
       "      <td>0.472527</td>\n",
       "      <td>91</td>\n",
       "    </tr>\n",
       "    <tr>\n",
       "      <th>149</th>\n",
       "      <td>Hakuna Matata</td>\n",
       "      <td>0.563218</td>\n",
       "      <td>87</td>\n",
       "    </tr>\n",
       "    <tr>\n",
       "      <th>208</th>\n",
       "      <td>James Earl Jones</td>\n",
       "      <td>0.743590</td>\n",
       "      <td>78</td>\n",
       "    </tr>\n",
       "    <tr>\n",
       "      <th>161</th>\n",
       "      <td>Hans Zimmer</td>\n",
       "      <td>0.837838</td>\n",
       "      <td>74</td>\n",
       "    </tr>\n",
       "    <tr>\n",
       "      <th>474</th>\n",
       "      <td>Rafiki</td>\n",
       "      <td>0.774648</td>\n",
       "      <td>71</td>\n",
       "    </tr>\n",
       "    <tr>\n",
       "      <th>635</th>\n",
       "      <td>Tim Rice</td>\n",
       "      <td>0.737705</td>\n",
       "      <td>61</td>\n",
       "    </tr>\n",
       "    <tr>\n",
       "      <th>702</th>\n",
       "      <td>Zazu</td>\n",
       "      <td>0.400000</td>\n",
       "      <td>50</td>\n",
       "    </tr>\n",
       "  </tbody>\n",
       "</table>\n",
       "</div>"
      ],
      "text/plain": [
       "                 Word  Sentiment  Count\n",
       "559             Simba   0.323913    920\n",
       "518              Scar   0.098655    446\n",
       "379            Mufasa   0.244681    376\n",
       "640             Timon   0.573770    122\n",
       "101        Elton John   0.661017    118\n",
       "309         Lion King   0.355932    118\n",
       "465            Pumbaa   0.600000    105\n",
       "235      Jeremy Irons   0.588235    102\n",
       "414              Nala   0.472527     91\n",
       "149     Hakuna Matata   0.563218     87\n",
       "208  James Earl Jones   0.743590     78\n",
       "161       Hans Zimmer   0.837838     74\n",
       "474            Rafiki   0.774648     71\n",
       "635          Tim Rice   0.737705     61\n",
       "702              Zazu   0.400000     50"
      ]
     },
     "execution_count": 291,
     "metadata": {},
     "output_type": "execute_result"
    }
   ],
   "source": [
    "df.head(15)"
   ]
  },
  {
   "cell_type": "markdown",
   "metadata": {},
   "source": [
    "**Visualize Results**  \n",
    "\n",
    "Fix: \n",
    "* Miguel's\n",
    "* ,Miguel\n",
    "* Tom Hanks\n"
   ]
  },
  {
   "cell_type": "markdown",
   "metadata": {},
   "source": [
    "**Preprocess Predictions**"
   ]
  },
  {
   "cell_type": "code",
   "execution_count": 293,
   "metadata": {},
   "outputs": [
    {
     "data": {
      "image/png": "[encoded data removed]",
      "text/plain": [
       "<Figure size 864x360 with 1 Axes>"
      ]
     },
     "metadata": {
      "needs_background": "light"
     },
     "output_type": "display_data"
    }
   ],
   "source": [
    "plt.figure(figsize=(12, 5))\n",
    "norm = TwoSlopeNorm(vmin=-1, vcenter=0.0, \n",
    "                    vmax=1)\n",
    "colors = [plt.cm.bwr(norm(c)) for c in df.Sentiment.head(15)]\n",
    "ax = sns.barplot(x='Sentiment', y='Word', data=df.head(15), palette=colors, edgecolor='black')\n",
    "plt.tight_layout()\n",
    "plt.xlabel(\"Sentiment\")\n",
    "plt.ylabel(\"\")\n",
    "plt.show()\n",
    "# plt.savefig(\"../images/lion_king.png\", dpi=300)"
   ]
  }
 ],
 "metadata": {
  "kernelspec": {
   "display_name": "Python 3",
   "language": "python",
   "name": "python3"
  },
  "language_info": {
   "codemirror_mode": {
    "name": "ipython",
    "version": 3
   },
   "file_extension": ".py",
   "mimetype": "text/x-python",
   "name": "python",
   "nbconvert_exporter": "python",
   "pygments_lexer": "ipython3",
   "version": "3.7.4"
  }
 },
 "nbformat": 4,
 "nbformat_minor": 4
}

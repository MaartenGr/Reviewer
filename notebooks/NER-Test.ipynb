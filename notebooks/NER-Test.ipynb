{
 "cells": [
  {
   "cell_type": "markdown",
   "metadata": {},
   "source": [
    "Fine-tune bert: https://skimai.com/fine-tuning-bert-for-sentiment-analysis/"
   ]
  },
  {
   "cell_type": "code",
   "execution_count": 64,
   "metadata": {},
   "outputs": [
    {
     "name": "stderr",
     "output_type": "stream",
     "text": [
      "[nltk_data] Downloading package punkt to\n",
      "[nltk_data]     C:\\Users\\Maarten\\AppData\\Roaming\\nltk_data...\n",
      "[nltk_data]   Package punkt is already up-to-date!\n"
     ]
    }
   ],
   "source": [
    "import re\n",
    "import json\n",
    "import numpy as np\n",
    "import pandas as pd\n",
    "from tqdm import tqdm\n",
    "from collections import Counter\n",
    "from unidecode import unidecode\n",
    "from flair.data import Sentence\n",
    "from flair.models import SequenceTagger\n",
    "from flair.models import TextClassifier\n",
    "from rich import print\n",
    "from nltk.tokenize import sent_tokenize\n",
    "\n",
    "import seaborn as sns\n",
    "from matplotlib.colors import TwoSlopeNorm\n",
    "import matplotlib.pyplot as plt\n",
    "\n",
    "import nltk\n",
    "nltk.download('punkt')\n",
    "\n",
    "%matplotlib inline\n",
    "\n",
    "def extract_names(docs, save=False):\n",
    "    results = []\n",
    "    \n",
    "    for doc in docs:\n",
    "        \n",
    "        # split doc in sentences\n",
    "        sentences = sent_tokenize(doc)\n",
    "#         sentences = [e + \".\" for e in doc.split(\".\") if e]\n",
    "        \n",
    "        for sent in sentences:\n",
    "            \n",
    "            sentence = Sentence(sent, use_tokenizer=True)\n",
    "            tagger.predict(sentence)\n",
    "\n",
    "            for entity in sentence.get_spans('ner'):\n",
    "                \n",
    "                # Extract person and predict sentiment if person is in sentence\n",
    "                if entity.tag == \"PER\":\n",
    "                    classifier.predict(sentence)\n",
    "                    score = sentence.get_labels()[0].score\n",
    "                    value = sentence.get_labels()[0].value\n",
    "                    name = entity.text\n",
    "                    results.append((name, score, value))\n",
    "\n",
    "    if save:\n",
    "        with open(f'../data/{save}_names.json', 'w') as f:\n",
    "            json.dump(results, f)\n",
    "                \n",
    "    return results\n",
    "\n",
    "\n",
    "def extract_df(name_list):\n",
    "    df = pd.DataFrame(name_list, columns=[\"Word\", \"Prob\", \"Sentiment\"])\n",
    "    df.Sentiment = df.Sentiment.map({\"POSITIVE\": 1, \"NEGATIVE\": -1})\n",
    "    df.Word = df.Word.astype(str)\n",
    "    df = preprocess_counts(df)\n",
    "    return df\n",
    "\n",
    "\n",
    "def preprocess_counts(df):\n",
    "    \"\"\" Preprocess the data\n",
    "    \n",
    "    * Combine names such as Miguel and Miguel's by removing everything next to the special character \n",
    "    \n",
    "    \"\"\"\n",
    "    # Remove accents\n",
    "    df.Word = [unidecode(word) for word in df.Word]\n",
    "    \n",
    "    # Combine names such as Miguel and Miguel's by removing everything next to the special character\n",
    "#     df.Word = df.Word.str.replace('[^A-z]',' ').str.strip().str.split(' ').str[0]  \n",
    "    df.Word = df.Word.str.replace('[^A-z]',' ').str.strip()\n",
    "    df = df.groupby(\"Word\").agg({\"Sentiment\": [np.mean, np.count_nonzero]})\n",
    "    df.columns = df.columns.droplevel()\n",
    "    df = df.reset_index()\n",
    "    df.columns = [\"Word\", \"Sentiment\", \"Count\"]\n",
    "    df = df.sort_values(\"Count\", ascending=False)\n",
    "    \n",
    "    # Remove names less than 3 characters\n",
    "    df = df.loc[df.Word.str.len() >= 3, :]\n",
    "    \n",
    "    # Remove the \"name\" Disney\n",
    "    df = df.loc[df.Word != \"Disney\", :]\n",
    "    \n",
    "    return df\n",
    "\n",
    "def predict(title, name, reviews):\n",
    "    print(title)\n",
    "    new_docs = [sent_tokenize(doc) for doc in reviews]\n",
    "    new_docs = [x for sublist in new_docs for x in sublist]\n",
    "    total_length = sum([len(x) for x in new_docs])\n",
    "    new_docs = [Sentence(x) for x in new_docs]\n",
    "    \n",
    "    tagger.predict(new_docs, verbose=True)\n",
    "    classifier.predict(new_docs, verbose=True)\n",
    "\n",
    "    results = []\n",
    "    for sentence in new_docs:\n",
    "        for token in sentence.get_spans('ner'):\n",
    "            if token.tag == \"PER\":\n",
    "                results.append((token.text, sentence.get_labels()[0].score, sentence.get_labels()[0].value))\n",
    "                \n",
    "    with open(f'../data/{name}.json', 'w') as f:\n",
    "        json.dump(results, f)\n",
    "    return results"
   ]
  },
  {
   "cell_type": "markdown",
   "metadata": {},
   "source": [
    "**Load Model**  \n",
    "This model was trained over the English CoNLL-03 task and can recognize 4 different entity types."
   ]
  },
  {
   "cell_type": "code",
   "execution_count": 6,
   "metadata": {},
   "outputs": [
    {
     "name": "stdout",
     "output_type": "stream",
     "text": [
      "2020-08-13 08:03:10,951 https://s3.eu-central-1.amazonaws.com/alan-nlp/resources/models-v0.4/NER-conll03--h256-l1-b32-p3-0.5-%2Bglove%2Bnews-forward-fast%2Bnews-backward-fast-normal-locked0.5-word0.05--release_4/en-ner-fast-conll03-v0.4.pt not found in cache, downloading to C:\\Users\\Maarten\\AppData\\Local\\Temp\\tmpqgfq7cox\n"
     ]
    },
    {
     "name": "stderr",
     "output_type": "stream",
     "text": [
      "100%|████████████████████████████████████████████████████████████████| 256774339/256774339 [01:51<00:00, 2296128.43B/s]\n"
     ]
    },
    {
     "name": "stdout",
     "output_type": "stream",
     "text": [
      "2020-08-13 08:05:03,293 copying C:\\Users\\Maarten\\AppData\\Local\\Temp\\tmpqgfq7cox to cache at C:\\Users\\Maarten\\.flair\\models\\en-ner-fast-conll03-v0.4.pt\n",
      "2020-08-13 08:05:04,074 removing temp file C:\\Users\\Maarten\\AppData\\Local\\Temp\\tmpqgfq7cox\n",
      "2020-08-13 08:05:04,121 loading file C:\\Users\\Maarten\\.flair\\models\\en-ner-fast-conll03-v0.4.pt\n",
      "2020-08-13 08:05:07,555 https://nlp.informatik.hu-berlin.de/resources/models/sentiment-curated-fasttext-rnn/sentiment-en-mix-ft-rnn.pt not found in cache, downloading to C:\\Users\\Maarten\\AppData\\Local\\Temp\\tmpinys5zey\n"
     ]
    },
    {
     "name": "stderr",
     "output_type": "stream",
     "text": [
      "100%|██████████████████████████████████████████████████████████████| 1242007042/1242007042 [05:52<00:00, 3525074.82B/s]\n"
     ]
    },
    {
     "name": "stdout",
     "output_type": "stream",
     "text": [
      "2020-08-13 08:11:00,119 copying C:\\Users\\Maarten\\AppData\\Local\\Temp\\tmpinys5zey to cache at C:\\Users\\Maarten\\.flair\\models\\sentiment-en-mix-ft-rnn.pt\n",
      "2020-08-13 08:11:13,802 removing temp file C:\\Users\\Maarten\\AppData\\Local\\Temp\\tmpinys5zey\n",
      "2020-08-13 08:11:14,013 loading file C:\\Users\\Maarten\\.flair\\models\\sentiment-en-mix-ft-rnn.pt\n"
     ]
    }
   ],
   "source": [
    "tagger = SequenceTagger.load('ner-fast')  # ner-fast for cpu-based predictions\n",
    "classifier = TextClassifier.load('sentiment-fast')"
   ]
  },
  {
   "cell_type": "markdown",
   "metadata": {},
   "source": [
    "**Load Data**"
   ]
  },
  {
   "cell_type": "code",
   "execution_count": 45,
   "metadata": {},
   "outputs": [],
   "source": [
    "with open('../data/disney_reviews.json') as f:\n",
    "    reviews = json.load(f)\n",
    "\n",
    "# docs = reviews['Frozen']"
   ]
  },
  {
   "cell_type": "code",
   "execution_count": 56,
   "metadata": {},
   "outputs": [],
   "source": [
    "titles = [(title, re.sub('[^a-zA-Z]+', '', title).lower()) for title in list(reviews.keys())]"
   ]
  },
  {
   "cell_type": "code",
   "execution_count": 66,
   "metadata": {},
   "outputs": [],
   "source": [
    "# results = predict(\"Moana\", \"moana\", reviews[\"Moana\"])"
   ]
  },
  {
   "cell_type": "markdown",
   "metadata": {},
   "source": [
    "**Generate Predictions**"
   ]
  },
  {
   "cell_type": "code",
   "execution_count": 35,
   "metadata": {},
   "outputs": [],
   "source": [
    "new_docs = [sent_tokenize(doc) for doc in docs]\n",
    "new_docs = [x for sublist in new_docs for x in sublist]\n",
    "total_length = sum([len(x) for x in new_docs])\n",
    "new_docs = [Sentence(x) for x in new_docs]"
   ]
  },
  {
   "cell_type": "code",
   "execution_count": 36,
   "metadata": {},
   "outputs": [
    {
     "name": "stderr",
     "output_type": "stream",
     "text": [
      "Inferencing on batch 541: 100%|██████████████████████████████████████████████████████| 541/541 [19:54<00:00,  5.89it/s]\n",
      "Inferencing on batch 541: 100%|██████████████████████████████████████████████████████| 541/541 [00:18<00:00, 28.60it/s]\n"
     ]
    }
   ],
   "source": [
    "tagger.predict(new_docs, verbose=True)\n",
    "classifier.predict(new_docs, verbose=True)\n",
    "\n",
    "results = []\n",
    "for sentence in new_docs:\n",
    "    for token in sentence.get_spans('ner'):\n",
    "        if token.tag == \"PER\":\n",
    "            results.append((token.text, sentence.get_labels()[0].score, sentence.get_labels()[0].value))"
   ]
  },
  {
   "cell_type": "code",
   "execution_count": 60,
   "metadata": {},
   "outputs": [],
   "source": [
    "with open('../data/test.json', 'w') as f:\n",
    "    json.dump(results, f)"
   ]
  },
  {
   "cell_type": "code",
   "execution_count": 42,
   "metadata": {},
   "outputs": [],
   "source": [
    "df = pd.DataFrame(results, columns=[\"Word\", \"Prob\", \"Sentiment\"])\n",
    "\n",
    "# Preprocessing\n",
    "df.Sentiment = df.Sentiment.map({\"POSITIVE\": 1, \"NEGATIVE\": -1})\n",
    "df.Word = [unidecode(word) for word in df.Word]\n",
    "df.Word = df.Word.str.replace('[^A-z]',' ').str.strip()\n",
    "df.Word = [re.sub(r\"\\b[a-zA-Z]\\b\", \"\", word).strip() for word in df.Word.values]\n",
    "df = df.loc[df.Word != \"Disney\", :]\n",
    "df = df.loc[df.Word.str.len() >= 3, :]\n",
    "df = df.loc[df.Prob > 0.9, :]\n",
    "\n",
    "# # Finishing up\n",
    "df = df.groupby(\"Word\").agg({\"Sentiment\": [np.mean, np.count_nonzero]})\n",
    "df.columns = df.columns.droplevel()\n",
    "df = df.reset_index()\n",
    "df.columns = [\"Word\", \"Sentiment\", \"Count\"]\n",
    "df = df.sort_values(\"Count\", ascending=False)"
   ]
  },
  {
   "cell_type": "markdown",
   "metadata": {},
   "source": [
    "**Visualize Results**  \n",
    "\n",
    "Fix: \n",
    "* Miguel's\n",
    "* ,Miguel\n",
    "* Tom Hanks\n"
   ]
  },
  {
   "cell_type": "markdown",
   "metadata": {},
   "source": [
    "**Preprocess Predictions**"
   ]
  },
  {
   "cell_type": "code",
   "execution_count": 43,
   "metadata": {},
   "outputs": [
    {
     "data": {
      "image/png": "[encoded data removed]",
      "text/plain": [
       "<Figure size 864x360 with 1 Axes>"
      ]
     },
     "metadata": {
      "needs_background": "light"
     },
     "output_type": "display_data"
    }
   ],
   "source": [
    "plt.figure(figsize=(12, 5))\n",
    "norm = TwoSlopeNorm(vmin=-1, vcenter=0.0, \n",
    "                    vmax=1)\n",
    "colors = [plt.cm.bwr(norm(c)) for c in df.Sentiment.head(15)]\n",
    "ax = sns.barplot(x='Sentiment', y='Word', data=df.head(15), palette=colors, edgecolor='black')\n",
    "plt.tight_layout()\n",
    "plt.xlabel(\"Sentiment\")\n",
    "plt.ylabel(\"\")\n",
    "plt.show()\n",
    "# plt.savefig(\"../images/frozen.png\", dpi=300)"
   ]
  }
 ],
 "metadata": {
  "kernelspec": {
   "display_name": "Python 3",
   "language": "python",
   "name": "python3"
  },
  "language_info": {
   "codemirror_mode": {
    "name": "ipython",
    "version": 3
   },
   "file_extension": ".py",
   "mimetype": "text/x-python",
   "name": "python",
   "nbconvert_exporter": "python",
   "pygments_lexer": "ipython3",
   "version": "3.7.3"
  }
 },
 "nbformat": 4,
 "nbformat_minor": 4
}

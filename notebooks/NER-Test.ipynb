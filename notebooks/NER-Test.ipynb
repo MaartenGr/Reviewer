{
 "cells": [
  {
   "cell_type": "code",
   "execution_count": 5,
   "metadata": {},
   "outputs": [],
   "source": [
    "import json\n",
    "import pandas as pd\n",
    "from tqdm import tqdm\n",
    "from collections import Counter\n",
    "from unidecode import unidecode\n",
    "from flair.data import Sentence\n",
    "from flair.models import SequenceTagger\n",
    "from flair.models import TextClassifier\n",
    "from rich import print\n",
    "\n",
    "import seaborn as sns\n",
    "from matplotlib.colors import TwoSlopeNorm\n",
    "import matplotlib.pyplot as plt\n",
    "\n",
    "%matplotlib inline\n",
    "\n",
    "def extract_names(docs, save=False):\n",
    "    results = []\n",
    "    \n",
    "    for doc in tqdm(docs):\n",
    "        \n",
    "        # split doc in sentences\n",
    "        sentences = [e + \".\" for e in doc.split(\".\") if e]\n",
    "        \n",
    "        for sent in sentences:\n",
    "            \n",
    "            sentence = Sentence(sent, use_tokenizer=True)\n",
    "            tagger.predict(sentence)\n",
    "\n",
    "            for entity in sentence.get_spans('ner'):\n",
    "                \n",
    "                # Extract person and predict sentiment if person is in sentence\n",
    "                if entity.tag == \"PER\":\n",
    "                    classifier.predict(sentence)\n",
    "                    score = sentence.get_labels()[0].score\n",
    "                    value = sentence.get_labels()[0].value\n",
    "                    name = entity.text\n",
    "                    results.append((name, score, value))\n",
    "\n",
    "    if save:\n",
    "        with open(f'../data/{save}_names.json', 'w') as f:\n",
    "            json.dump(results, f)\n",
    "                \n",
    "    return results"
   ]
  },
  {
   "cell_type": "markdown",
   "metadata": {},
   "source": [
    "**Load Model**  \n",
    "This model was trained over the English CoNLL-03 task and can recognize 4 different entity types."
   ]
  },
  {
   "cell_type": "code",
   "execution_count": 4,
   "metadata": {},
   "outputs": [
    {
     "name": "stdout",
     "output_type": "stream",
     "text": [
      "2020-08-10 16:03:18,003 loading file /home/CORP.VANSPAENDONCKGROEP.NL/maarten.grootendorst/.flair/models/en-ner-fast-conll03-v0.4.pt\n",
      "2020-08-10 16:03:19,715 loading file /home/CORP.VANSPAENDONCKGROEP.NL/maarten.grootendorst/.flair/models/sentiment-en-mix-ft-rnn.pt\n"
     ]
    }
   ],
   "source": [
    "tagger = SequenceTagger.load('ner-fast')  # ner-fast for cpu-based predictions\n",
    "classifier = TextClassifier.load('sentiment-fast')"
   ]
  },
  {
   "cell_type": "markdown",
   "metadata": {},
   "source": [
    "**Load Data**"
   ]
  },
  {
   "cell_type": "code",
   "execution_count": 6,
   "metadata": {},
   "outputs": [],
   "source": [
    "with open('../data/pixar_reviews.json') as f:\n",
    "    reviews = json.load(f)\n",
    "\n",
    "movie = reviews['Toy Story']\n",
    "df = pd.DataFrame(movie, columns=[\"Title\", \"Review\"])\n",
    "docs = list(df.Review.values)"
   ]
  },
  {
   "cell_type": "markdown",
   "metadata": {},
   "source": [
    "**Generate Predictions**"
   ]
  },
  {
   "cell_type": "code",
   "execution_count": 7,
   "metadata": {},
   "outputs": [
    {
     "name": "stderr",
     "output_type": "stream",
     "text": [
      "100%|██████████| 602/602 [03:51<00:00,  2.60it/s]\n"
     ]
    }
   ],
   "source": [
    "names = extract_names(docs, save=\"toy_story\") "
   ]
  },
  {
   "cell_type": "markdown",
   "metadata": {},
   "source": [
    "**Visualize Results**  \n",
    "\n",
    "Fix: \n",
    "* Miguel's\n",
    "* ,Miguel\n",
    "* Tom Hanks\n"
   ]
  },
  {
   "cell_type": "code",
   "execution_count": 86,
   "metadata": {},
   "outputs": [],
   "source": [
    "def extract_df(name_list):\n",
    "    df = pd.DataFrame(name_list, columns=[\"Word\", \"Prob\", \"Sentiment\"])\n",
    "    df.Sentiment = df.Sentiment.map({\"POSITIVE\": 1, \"NEGATIVE\": -1})\n",
    "    df.Word = df.Word.astype(str)\n",
    "    df = preprocess_counts(df)\n",
    "    return df"
   ]
  },
  {
   "cell_type": "code",
   "execution_count": 102,
   "metadata": {},
   "outputs": [],
   "source": [
    "def preprocess_counts(df):\n",
    "    \"\"\" Preprocess the data\n",
    "    \n",
    "    * Combine names such as Miguel and Miguel's by removing everything next to the special character \n",
    "    \n",
    "    \"\"\"\n",
    "    # Remove accents\n",
    "    df.Word = [unidecode(word) for word in df.Word]\n",
    "    \n",
    "    # Combine names such as Miguel and Miguel's by removing everything next to the special character\n",
    "#     df.Word = df.Word.str.replace('[^A-z]',' ').str.strip().str.split(' ').str[0]  \n",
    "    df.Word = df.Word.str.replace('[^A-z]',' ').str.strip()\n",
    "    df = df.groupby(\"Word\").agg({\"Sentiment\": [np.mean, np.count_nonzero]})\n",
    "    df.columns = df.columns.droplevel()\n",
    "    df = df.reset_index()\n",
    "    df.columns = [\"Word\", \"Sentiment\", \"Count\"]\n",
    "    df = df.sort_values(\"Count\", ascending=False)\n",
    "    \n",
    "    # Remove names less than 3 characters\n",
    "    df = df.loc[df.Word.str.len() >= 3, :]\n",
    "    \n",
    "    # Remove the \"name\" Disney\n",
    "    df = df.loc[df.Word != \"Disney\", :]\n",
    "    \n",
    "    return df"
   ]
  },
  {
   "cell_type": "code",
   "execution_count": 147,
   "metadata": {},
   "outputs": [],
   "source": [
    "toy = extract_df(names)"
   ]
  },
  {
   "cell_type": "code",
   "execution_count": 156,
   "metadata": {},
   "outputs": [],
   "source": [
    "def transform_sentiment(row):\n",
    "    return round((1 - row * 2) * -1, 3)\n",
    "toy[\"Sentiment_Transformed\"] = toy.apply(lambda row: transform_sentiment(row.Sentiment), 1)"
   ]
  },
  {
   "cell_type": "code",
   "execution_count": 166,
   "metadata": {},
   "outputs": [
    {
     "data": {
      "image/png": "[encoded data removed]",
      "text/plain": [
       "<Figure size 432x288 with 1 Axes>"
      ]
     },
     "metadata": {},
     "output_type": "display_data"
    }
   ],
   "source": [
    "norm = TwoSlopeNorm(vmin=toy.Sentiment_Transformed.head(20).min(), vcenter=0.0, vmax=toy.Sentiment_Transformed.head(20).max())\n",
    "colors = [plt.cm.bwr(norm(c)) for c in toy.Sentiment_Transformed.head(20)]\n",
    "ax = sns.barplot(x='Sentiment_Transformed', y='Word', data=toy.head(20), palette=colors, edgecolor='black')\n",
    "plt.tight_layout()\n",
    "plt.xlabel(\"Sentiment\")\n",
    "plt.ylabel(\"\")\n",
    "plt.show()\n",
    "# plt.savefig(\"../data/toy_story.png\", dpi=300)"
   ]
  },
  {
   "cell_type": "code",
   "execution_count": 92,
   "metadata": {},
   "outputs": [],
   "source": [
    "# results.to_csv(\"../data/toy_story_names.csv\", index=False)"
   ]
  }
 ],
 "metadata": {
  "kernelspec": {
   "display_name": "Python 3",
   "language": "python",
   "name": "python3"
  },
  "language_info": {
   "codemirror_mode": {
    "name": "ipython",
    "version": 3
   },
   "file_extension": ".py",
   "mimetype": "text/x-python",
   "name": "python",
   "nbconvert_exporter": "python",
   "pygments_lexer": "ipython3",
   "version": "3.7.4"
  }
 },
 "nbformat": 4,
 "nbformat_minor": 4
}

{
 "cells": [
  {
   "cell_type": "markdown",
   "metadata": {},
   "source": [
    "## Other Movies"
   ]
  },
  {
   "cell_type": "code",
   "execution_count": 1,
   "metadata": {},
   "outputs": [],
   "source": [
    "import sys\n",
    "sys.path.insert(0,'..')\n",
    "from Disney.scraper import Scraper\n",
    "from Disney.tfidf import TFIDF\n",
    "from Disney.cloud import WordCloudGenerator"
   ]
  },
  {
   "cell_type": "code",
   "execution_count": 2,
   "metadata": {},
   "outputs": [],
   "source": [
    "save_prefix = \"lord\""
   ]
  },
  {
   "cell_type": "markdown",
   "metadata": {},
   "source": [
    "**Scrape Reviews**"
   ]
  },
  {
   "cell_type": "code",
   "execution_count": 2,
   "metadata": {},
   "outputs": [],
   "source": [
    "sc = Scraper(dir_path=\"../\", chrome_path=\"../drivers/chromedriver\")\n",
    "urls = {\"Lord of the Rings\": \"https://www.imdb.com/title/tt0120737/reviews?ref_=tt_ov_rt\"}\n",
    "result = sc.scrape_reviews(urls, save=save_prefix)"
   ]
  },
  {
   "cell_type": "markdown",
   "metadata": {},
   "source": [
    "**Calculate C-TF-IDF**  \n",
    "Not working for a single movie currently"
   ]
  },
  {
   "cell_type": "code",
   "execution_count": 3,
   "metadata": {},
   "outputs": [
    {
     "name": "stderr",
     "output_type": "stream",
     "text": [
      "../Disney/tfidf.py:101: RuntimeWarning: divide by zero encountered in true_divide\n",
      "  result[\"Importance\"] = result[movie].values / result.drop(movie, 1).reset_index(drop=True).sum(axis=1).values\n"
     ]
    }
   ],
   "source": [
    "# tf = TFIDF(dir_path=\"../\")\n",
    "# tf.generate(\"../data/lord_reviews.json\", save_prefix=save_prefix)"
   ]
  },
  {
   "cell_type": "markdown",
   "metadata": {},
   "source": [
    "**Generate Wordcloud**  \n",
    "Also not working currently"
   ]
  },
  {
   "cell_type": "code",
   "execution_count": null,
   "metadata": {},
   "outputs": [],
   "source": [
    "# wc = WordCloudGenerator(dir_path=\"../\")\n",
    "# wc.generate_image(movie=\"Coco\", word_type=\"TF-IDF\", mask=\"coco.jpg\", pixels=500, save=False)"
   ]
  }
 ],
 "metadata": {
  "kernelspec": {
   "display_name": "Python 3",
   "language": "python",
   "name": "python3"
  },
  "language_info": {
   "codemirror_mode": {
    "name": "ipython",
    "version": 3
   },
   "file_extension": ".py",
   "mimetype": "text/x-python",
   "name": "python",
   "nbconvert_exporter": "python",
   "pygments_lexer": "ipython3",
   "version": "3.7.4"
  }
 },
 "nbformat": 4,
 "nbformat_minor": 4
}
